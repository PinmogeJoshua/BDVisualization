{
 "cells": [
  {
   "cell_type": "markdown",
   "metadata": {},
   "source": [
    "# 1. 导入数据"
   ]
  },
  {
   "cell_type": "code",
   "execution_count": null,
   "metadata": {},
   "outputs": [],
   "source": [
    "import pandas as pd\n",
    "\n",
    "# 导入数据集\n",
    "movies_df = pd.read_csv('C:\\VSCode\\Visualization\\Movie\\Movie_Actors.csv', encoding='latin1')\n",
    "actors_df = pd.read_csv('C:\\VSCode\\Visualization\\Movie\\Movie_Actors.csv', encoding='latin1')\n",
    "ratings_df = pd.read_csv('C:\\VSCode\\Visualization\\Movie\\Movie_AdditionalRating.csv', encoding='latin1')\n",
    "genres_df = pd.read_csv('C:\\VSCode\\Visualization\\Movie\\Movie_Genres.csv', encoding='latin1')\n",
    "writers_df = pd.read_csv('C:\\VSCode\\Visualization\\Movie\\Movie_Writer.csv', encoding='latin1')"
   ]
  },
  {
   "cell_type": "markdown",
   "metadata": {},
   "source": [
    "# 2.合并数据集"
   ]
  },
  {
   "cell_type": "markdown",
   "metadata": {},
   "source": [
    "## 2.1 合并Movie_Movies.csv和Movie_Actors.csv"
   ]
  },
  {
   "cell_type": "code",
   "execution_count": null,
   "metadata": {},
   "outputs": [],
   "source": [
    "# 合并电影和演员信息\n",
    "merged_df = pd.merge(movies_df, actors_df, on='imdbID', how='left')"
   ]
  },
  {
   "cell_type": "markdown",
   "metadata": {},
   "source": [
    "## 2.2 合并Movie_AdditionalRating.csv"
   ]
  },
  {
   "cell_type": "code",
   "execution_count": null,
   "metadata": {},
   "outputs": [],
   "source": [
    "# 合并电影和评分信息\n",
    "merged_df = pd.merge(merged_df, ratings_df, on='imdbID', how='left')"
   ]
  },
  {
   "cell_type": "markdown",
   "metadata": {},
   "source": [
    "## 2.3 合并Movie_Genres.csv"
   ]
  },
  {
   "cell_type": "code",
   "execution_count": null,
   "metadata": {},
   "outputs": [],
   "source": [
    "# 合并电影和流派信息\n",
    "merged_df = pd.merge(merged_df, genres_df, on='imdbID', how='left')"
   ]
  },
  {
   "cell_type": "markdown",
   "metadata": {},
   "source": [
    "## 2.4 合并Movie_Writer.csv"
   ]
  },
  {
   "cell_type": "code",
   "execution_count": null,
   "metadata": {},
   "outputs": [],
   "source": [
    "# 合并电影和编剧信息\n",
    "merged_df = pd.merge(merged_df, writers_df, on='imdbID', how='left', suffixes=('_movies', '_writers'))"
   ]
  },
  {
   "cell_type": "markdown",
   "metadata": {},
   "source": [
    "# 3. 保存合并后的数据"
   ]
  },
  {
   "cell_type": "code",
   "execution_count": null,
   "metadata": {},
   "outputs": [],
   "source": [
    "# 保存处理后的数据\n",
    "merged_df.to_csv('movie_data.csv', index=False)"
   ]
  },
  {
   "cell_type": "markdown",
   "metadata": {},
   "source": [
    "# 4. 合并数据"
   ]
  },
  {
   "cell_type": "markdown",
   "metadata": {},
   "source": [
    "## 4.1 查看数据结构"
   ]
  },
  {
   "cell_type": "code",
   "execution_count": null,
   "metadata": {},
   "outputs": [],
   "source": [
    "# 读取合并后的数据文件\n",
    "merged_df = pd.read_csv('movie_data.csv')\n",
    "\n",
    "# 查看数据的基本信息（包括列名、数据类型、非空值数量等）\n",
    "print(\"数据概览：\")\n",
    "print(merged_df.info())\n",
    "\n",
    "# 查看数据的前5行\n",
    "print(\"\\n数据的前5行：\")\n",
    "print(merged_df.head())\n",
    "\n",
    "# 查看每列的缺失值数量\n",
    "print(\"\\n每列缺失值数量：\")\n",
    "print(merged_df.isnull().sum())\n",
    "\n",
    "# 查看每列的唯一值数量\n",
    "print(\"\\n每列的唯一值数量：\")\n",
    "print(merged_df.nunique())"
   ]
  },
  {
   "cell_type": "markdown",
   "metadata": {},
   "source": [
    "## 4.2 删除冗余列"
   ]
  },
  {
   "cell_type": "code",
   "execution_count": null,
   "metadata": {},
   "outputs": [],
   "source": [
    "# 删除不需要的冗余列\n",
    "merged_df = merged_df.drop(columns=['Unnamed: 0_x', 'Unnamed: 0_y', 'Unnamed: 0_movies', 'Unnamed: 0_writers'])"
   ]
  },
  {
   "cell_type": "markdown",
   "metadata": {},
   "source": [
    "## 4.3 处理缺失值"
   ]
  },
  {
   "cell_type": "code",
   "execution_count": null,
   "metadata": {},
   "outputs": [],
   "source": [
    "# 删除对分析不重要的列，如 Awards, Plot, Poster, Production\n",
    "merged_df = merged_df.drop(columns=['Awards', 'Plot', 'Poster', 'Production'])\n",
    "\n",
    "# 填充缺失的“Rating”和“Director”列\n",
    "merged_df['Rating'] = merged_df['Rating'].fillna('unknown')\n",
    "merged_df['Director'] = merged_df['Director'].fillna('unknown')\n",
    "\n",
    "# 对于\"imdbRating\"和\"Released\"列，可以填充为0或“未知”，也可以删除含有缺失值的行\n",
    "merged_df['imdbRating'] = merged_df['imdbRating'].fillna(0)\n",
    "merged_df['Released'] = merged_df['Released'].fillna('unknown')"
   ]
  },
  {
   "cell_type": "markdown",
   "metadata": {},
   "source": [
    "## 4.4 转换数据类型"
   ]
  },
  {
   "cell_type": "code",
   "execution_count": null,
   "metadata": {},
   "outputs": [],
   "source": [
    "# 将“Year”列转换为整数类型\n",
    "merged_df['Year'] = pd.to_numeric(merged_df['Year'], errors='coerce')\n",
    "\n",
    "# 提取“Runtime”中的数字并将其转换为整数类型\n",
    "merged_df['Runtime'] = merged_df['Runtime'].str.extract('(\\d+)').astype(float)\n",
    "\n",
    "# 检查并删除无效的值（例如年份为空或时长小于0）\n",
    "merged_df = merged_df.dropna(subset=['Year', 'Runtime'])\n",
    "merged_df = merged_df[merged_df['Runtime'] >= 0]"
   ]
  },
  {
   "cell_type": "markdown",
   "metadata": {},
   "source": [
    "## 4.5 处理类别数据"
   ]
  },
  {
   "cell_type": "code",
   "execution_count": null,
   "metadata": {},
   "outputs": [],
   "source": [
    "# 处理多个流派：拆分为多个列\n",
    "genres_split = merged_df['Genre'].str.split(',', expand=True)\n",
    "\n",
    "# 合并拆分的列并将其命名\n",
    "for i in range(genres_split.shape[1]):\n",
    "    merged_df[f'Genre_{i+1}'] = genres_split[i]\n",
    "\n",
    "# 删除原始的“Genre”列\n",
    "merged_df = merged_df.drop(columns=['Genre'])"
   ]
  },
  {
   "cell_type": "markdown",
   "metadata": {},
   "source": [
    "## 4.6 处理“imdbVotes”列"
   ]
  },
  {
   "cell_type": "code",
   "execution_count": null,
   "metadata": {},
   "outputs": [],
   "source": [
    "# 处理“imdbVotes”列，去除非数字字符（如逗号），然后转换为整数类型\n",
    "merged_df['imdbVotes'] = merged_df['imdbVotes'].str.replace(',', '').astype(float)\n",
    "\n",
    "# 处理可能存在的缺失值（可以填充为0，或删除）\n",
    "merged_df['imdbVotes'] = merged_df['imdbVotes'].fillna(0)"
   ]
  },
  {
   "cell_type": "markdown",
   "metadata": {},
   "source": [
    "## 4.7 清洗无效数据"
   ]
  },
  {
   "cell_type": "code",
   "execution_count": null,
   "metadata": {},
   "outputs": [],
   "source": [
    "# 处理“Rated”列，保留有效的评级值\n",
    "valid_ratings = ['G', 'PG', 'PG-13', 'R', 'NC-17', 'Unrated']  # 示例，你可以根据实际需要更新\n",
    "merged_df = merged_df[merged_df['Rated'].isin(valid_ratings)]\n",
    "\n",
    "# 删除“Website”列中缺失或无效的数据\n",
    "merged_df['Website'] = merged_df['Website'].fillna('未知')"
   ]
  },
  {
   "cell_type": "markdown",
   "metadata": {},
   "source": [
    "## 4.8 输出处理后的数据"
   ]
  },
  {
   "cell_type": "code",
   "execution_count": null,
   "metadata": {},
   "outputs": [],
   "source": [
    "# 保存清理后的数据\n",
    "merged_df.to_csv('cleaned_movie_data.csv', index=False)"
   ]
  },
  {
   "cell_type": "markdown",
   "metadata": {},
   "source": [
    "# 5. 验证数据集"
   ]
  },
  {
   "cell_type": "markdown",
   "metadata": {},
   "source": [
    "## 5.1 检查数据完整性"
   ]
  },
  {
   "cell_type": "code",
   "execution_count": null,
   "metadata": {},
   "outputs": [],
   "source": [
    "# 查看数据中每列的缺失值情况\n",
    "print(merged_df.isnull().sum())"
   ]
  },
  {
   "cell_type": "code",
   "execution_count": null,
   "metadata": {},
   "outputs": [],
   "source": [
    "# 填充缺失的“Country”和“Language”列\n",
    "merged_df['Country'] = merged_df['Country'].fillna('unknown')\n",
    "merged_df['Language'] = merged_df['Language'].fillna('unknown')\n",
    "\n",
    "# 填充“Actors”列，填充为\"未知\"\n",
    "merged_df['Actors'] = merged_df['Actors'].fillna('unknown')\n",
    "\n",
    "# 填充“RatingSource”列，填充为\"未知\"\n",
    "merged_df['RatingSource'] = merged_df['RatingSource'].fillna('unknown')\n",
    "\n",
    "# 对于“Person”和“Responsibility”列，删除缺失值的行\n",
    "merged_df = merged_df.dropna(subset=['Person', 'Responsibility'])\n",
    "\n",
    "# 填充“Genre_1”列，填充为\"未知\"\n",
    "merged_df['Genre_1'] = merged_df['Genre_1'].fillna('unknown')"
   ]
  },
  {
   "cell_type": "code",
   "execution_count": null,
   "metadata": {},
   "outputs": [],
   "source": [
    "# 删除包含缺失“imdbRating”或“imdbVotes”列的行\n",
    "merged_df = merged_df.dropna(subset=['imdbRating', 'imdbVotes'])"
   ]
  },
  {
   "cell_type": "code",
   "execution_count": null,
   "metadata": {},
   "outputs": [],
   "source": [
    "# 删除“Person”和“Responsibility”列（如果不重要）\n",
    "merged_df = merged_df.drop(columns=['Person', 'Responsibility'])"
   ]
  },
  {
   "cell_type": "markdown",
   "metadata": {},
   "source": [
    "## 5.2 检查数据结构是否适合可视化"
   ]
  },
  {
   "cell_type": "code",
   "execution_count": null,
   "metadata": {},
   "outputs": [],
   "source": [
    "# 检查是否有重复的 imdbID（每个电影应该只有一行）\n",
    "print(merged_df['imdbID'].duplicated().sum())"
   ]
  },
  {
   "cell_type": "markdown",
   "metadata": {},
   "source": [
    "## 5.3 数据格式检查"
   ]
  },
  {
   "cell_type": "code",
   "execution_count": null,
   "metadata": {},
   "outputs": [],
   "source": [
    "# 将“Released”列转换为日期格式\n",
    "merged_df['Released'] = pd.to_datetime(merged_df['Released'], errors='coerce')"
   ]
  },
  {
   "cell_type": "markdown",
   "metadata": {},
   "source": [
    "## 5.4 列名规范化"
   ]
  },
  {
   "cell_type": "code",
   "execution_count": null,
   "metadata": {},
   "outputs": [],
   "source": [
    "# 重命名列以符合规范\n",
    "merged_df = merged_df.rename(columns={\n",
    "    'imdbRating': 'imdb_rating',\n",
    "    'imdbVotes': 'imdb_votes',\n",
    "    'Released': 'release_date',\n",
    "    'Runtime': 'runtime_minutes',\n",
    "    'Country': 'country',\n",
    "    'Language': 'language',\n",
    "    'Title': 'movie_title',\n",
    "    'Rating': 'rating'\n",
    "})"
   ]
  },
  {
   "cell_type": "markdown",
   "metadata": {},
   "source": [
    "## 5.5 数据类型一致性"
   ]
  },
  {
   "cell_type": "code",
   "execution_count": null,
   "metadata": {},
   "outputs": [],
   "source": [
    "# 确保“imdbRating”和“imdbVotes”列为数值型\n",
    "merged_df['imdb_rating'] = pd.to_numeric(merged_df['imdb_rating'], errors='coerce')\n",
    "merged_df['imdb_votes'] = pd.to_numeric(merged_df['imdb_votes'], errors='coerce')\n",
    "\n",
    "# 确保“Year”和“Released”是日期类型\n",
    "merged_df['Year'] = pd.to_numeric(merged_df['Year'], errors='coerce')\n",
    "merged_df['release_date'] = pd.to_datetime(merged_df['release_date'], errors='coerce')"
   ]
  },
  {
   "cell_type": "markdown",
   "metadata": {},
   "source": [
    "## 5.8 导出数据并导入Tableau"
   ]
  },
  {
   "cell_type": "code",
   "execution_count": null,
   "metadata": {},
   "outputs": [],
   "source": [
    "# 保存清理后的数据\n",
    "merged_df.to_csv('cleaned_movie_data_for_tableau.csv', index=False)"
   ]
  }
 ],
 "metadata": {
  "kernelspec": {
   "display_name": "base",
   "language": "python",
   "name": "python3"
  },
  "language_info": {
   "codemirror_mode": {
    "name": "ipython",
    "version": 3
   },
   "file_extension": ".py",
   "mimetype": "text/x-python",
   "name": "python",
   "nbconvert_exporter": "python",
   "pygments_lexer": "ipython3",
   "version": "3.8.19"
  }
 },
 "nbformat": 4,
 "nbformat_minor": 2
}
